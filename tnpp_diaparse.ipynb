{
  "nbformat": 4,
  "nbformat_minor": 0,
  "metadata": {
    "colab": {
      "name": "tnpp-diaparse.ipynb",
      "provenance": [],
      "toc_visible": true,
      "authorship_tag": "ABX9TyM2RTE3fMA4MTc54js7Ad5q",
      "include_colab_link": true
    },
    "kernelspec": {
      "name": "python3",
      "display_name": "Python 3"
    },
    "language_info": {
      "name": "python"
    },
    "accelerator": "GPU"
  },
  "cells": [
    {
      "cell_type": "markdown",
      "metadata": {
        "id": "view-in-github",
        "colab_type": "text"
      },
      "source": [
        "<a href=\"https://colab.research.google.com/github/TurkuNLP/Dependency-parsing-and-data-analysis/blob/master/tnpp_diaparse.ipynb\" target=\"_parent\"><img src=\"https://colab.research.google.com/assets/colab-badge.svg\" alt=\"Open In Colab\"/></a>"
      ]
    },
    {
      "cell_type": "markdown",
      "metadata": {
        "id": "lhS5gcnQMUUX"
      },
      "source": [
        "# Turku Neural Parser Pipeline\n",
        "\n",
        "* A mini-tutorial of the latest version of the parser pipeline\n",
        "* Make sure to run it with GPU enabled (Runtime -> Change runtime type -> GPU)\n"
      ]
    },
    {
      "cell_type": "markdown",
      "metadata": {
        "id": "EhGCL2O2GaQn"
      },
      "source": [
        "# Modules\n",
        "\n",
        "## Segmentation\n",
        "\n",
        "* Tokenization and sentence segmentation happens jointly, and is implemented using the UDPipe library\n",
        "* Machine-learned sequence classification model\n",
        "\n",
        "## PoS and morphological tagging\n",
        "\n",
        "* A BERT-based classification model\n",
        "* Joint prediction of PoS and Tags\n",
        "* Implemented in Pytorch Lightning\n",
        "\n",
        "## Dependency parsing\n",
        "\n",
        "* Parsing is done using the [diaparser](https://github.com/Unipisa/diaparser) parser\n",
        "* A BERT-based model, implemented in Torch\n",
        "\n",
        "## Lemmatization\n",
        "\n",
        "* Lemmatization is a sequence-to-sequence model\n",
        "* Wordform + Tags -> Lemma\n",
        "* Fully machine-learned\n",
        "* Implemented using OpenNMT (a machine translation library)\n",
        "\n",
        "## GPU\n",
        "\n",
        "* Current accuracy far beyond previous versions of this pipeline\n",
        "* Cost: computationally intense deep neural network models\n",
        "* Small tests and examples can run on CPU, but any non-trivial amount of text needs a GPU accelerator\n",
        "\n",
        "## The FinBERT model\n",
        "\n",
        "* Large-scale pre-trained language model of Finnish\n",
        "* https://github.com/TurkuNLP/FinBERT\n",
        "* Subword tokenization:\n",
        "\n",
        "![image.png](data:image/png;base64,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)"
      ]
    },
    {
      "cell_type": "markdown",
      "metadata": {
        "id": "9sOFiRoqJ7fw"
      },
      "source": [
        "# INSTALL\n",
        "\n",
        "* git clone the code\n",
        "* cd to the directory\n",
        "* and install all requirements\n",
        "* this does take its time, the parser leans on quite large libraries"
      ]
    },
    {
      "cell_type": "code",
      "metadata": {
        "colab": {
          "base_uri": "https://localhost:8080/"
        },
        "id": "KKPUaw73JEwK",
        "outputId": "fb928deb-6243-42f1-d980-6f23b9dbedc0"
      },
      "source": [
        "!git clone https://github.com/TurkuNLP/Turku-neural-parser-pipeline.git\n",
        "%cd Turku-neural-parser-pipeline"
      ],
      "execution_count": 1,
      "outputs": [
        {
          "output_type": "stream",
          "text": [
            "Cloning into 'Turku-neural-parser-pipeline'...\n",
            "remote: Enumerating objects: 1160, done.\u001b[K\n",
            "remote: Counting objects: 100% (201/201), done.\u001b[K\n",
            "remote: Compressing objects: 100% (159/159), done.\u001b[K\n",
            "remote: Total 1160 (delta 113), reused 94 (delta 42), pack-reused 959\u001b[K\n",
            "Receiving objects: 100% (1160/1160), 340.63 KiB | 3.83 MiB/s, done.\n",
            "Resolving deltas: 100% (671/671), done.\n",
            "/content/Turku-neural-parser-pipeline\n"
          ],
          "name": "stdout"
        }
      ]
    },
    {
      "cell_type": "code",
      "metadata": {
        "id": "RybqhQ5YMpJZ",
        "colab": {
          "base_uri": "https://localhost:8080/"
        },
        "outputId": "1d2442ce-2202-4ba6-e55c-12873bffdb7d"
      },
      "source": [
        "#I like to upgrade these first\n",
        "!python3 -m pip install --upgrade pip\n",
        "!python3 -m pip install --upgrade setuptools"
      ],
      "execution_count": 2,
      "outputs": [
        {
          "output_type": "stream",
          "text": [
            "Requirement already satisfied: pip in /usr/local/lib/python3.7/dist-packages (21.1.3)\n",
            "Collecting pip\n",
            "  Downloading pip-21.2.4-py3-none-any.whl (1.6 MB)\n",
            "\u001b[K     |████████████████████████████████| 1.6 MB 11.9 MB/s \n",
            "\u001b[?25hInstalling collected packages: pip\n",
            "  Attempting uninstall: pip\n",
            "    Found existing installation: pip 21.1.3\n",
            "    Uninstalling pip-21.1.3:\n",
            "      Successfully uninstalled pip-21.1.3\n",
            "Successfully installed pip-21.2.4\n",
            "Requirement already satisfied: setuptools in /usr/local/lib/python3.7/dist-packages (57.4.0)\n",
            "\u001b[33mWARNING: Running pip as the 'root' user can result in broken permissions and conflicting behaviour with the system package manager. It is recommended to use a virtual environment instead: https://pip.pypa.io/warnings/venv\u001b[0m\n"
          ],
          "name": "stdout"
        }
      ]
    },
    {
      "cell_type": "code",
      "metadata": {
        "id": "ok1lM5IOJmU3",
        "colab": {
          "base_uri": "https://localhost:8080/"
        },
        "outputId": "006a8e7f-ecb0-4b7d-a7b4-e7672de6087d"
      },
      "source": [
        "!python3 -m pip install -r requirements.txt"
      ],
      "execution_count": 3,
      "outputs": [
        {
          "output_type": "stream",
          "text": [
            "Requirement already satisfied: torch>=1.9 in /usr/local/lib/python3.7/dist-packages (from -r requirements.txt (line 1)) (1.9.0+cu102)\n",
            "Requirement already satisfied: requests in /usr/local/lib/python3.7/dist-packages (from -r requirements.txt (line 2)) (2.23.0)\n",
            "Requirement already satisfied: flask in /usr/local/lib/python3.7/dist-packages (from -r requirements.txt (line 3)) (1.1.4)\n",
            "Requirement already satisfied: numpy in /usr/local/lib/python3.7/dist-packages (from -r requirements.txt (line 4)) (1.19.5)\n",
            "Collecting ufal.udpipe\n",
            "  Downloading ufal.udpipe-1.2.0.3.tar.gz (304 kB)\n",
            "\u001b[K     |████████████████████████████████| 304 kB 13.5 MB/s \n",
            "\u001b[?25hRequirement already satisfied: pyyaml in /usr/local/lib/python3.7/dist-packages (from -r requirements.txt (line 6)) (3.13)\n",
            "Collecting configargparse\n",
            "  Downloading ConfigArgParse-1.5.2-py3-none-any.whl (20 kB)\n",
            "Collecting transformers\n",
            "  Downloading transformers-4.9.2-py3-none-any.whl (2.6 MB)\n",
            "\u001b[K     |████████████████████████████████| 2.6 MB 49.3 MB/s \n",
            "\u001b[?25hCollecting OpenNMT-py>=1.2.0\n",
            "  Downloading OpenNMT_py-2.1.2-py3-none-any.whl (212 kB)\n",
            "\u001b[K     |████████████████████████████████| 212 kB 45.6 MB/s \n",
            "\u001b[?25hCollecting diaparser\n",
            "  Downloading diaparser-1.1.2-py3-none-any.whl (69 kB)\n",
            "\u001b[K     |████████████████████████████████| 69 kB 7.4 MB/s \n",
            "\u001b[?25hCollecting pytorch_lightning\n",
            "  Downloading pytorch_lightning-1.4.4-py3-none-any.whl (918 kB)\n",
            "\u001b[K     |████████████████████████████████| 918 kB 42.6 MB/s \n",
            "\u001b[?25hCollecting torchmetrics\n",
            "  Downloading torchmetrics-0.5.0-py3-none-any.whl (272 kB)\n",
            "\u001b[K     |████████████████████████████████| 272 kB 55.6 MB/s \n",
            "\u001b[?25hCollecting scikit-learn>=0.24\n",
            "  Downloading scikit_learn-0.24.2-cp37-cp37m-manylinux2010_x86_64.whl (22.3 MB)\n",
            "\u001b[K     |████████████████████████████████| 22.3 MB 1.5 MB/s \n",
            "\u001b[?25hRequirement already satisfied: typing-extensions in /usr/local/lib/python3.7/dist-packages (from torch>=1.9->-r requirements.txt (line 1)) (3.7.4.3)\n",
            "Requirement already satisfied: chardet<4,>=3.0.2 in /usr/local/lib/python3.7/dist-packages (from requests->-r requirements.txt (line 2)) (3.0.4)\n",
            "Requirement already satisfied: urllib3!=1.25.0,!=1.25.1,<1.26,>=1.21.1 in /usr/local/lib/python3.7/dist-packages (from requests->-r requirements.txt (line 2)) (1.24.3)\n",
            "Requirement already satisfied: idna<3,>=2.5 in /usr/local/lib/python3.7/dist-packages (from requests->-r requirements.txt (line 2)) (2.10)\n",
            "Requirement already satisfied: certifi>=2017.4.17 in /usr/local/lib/python3.7/dist-packages (from requests->-r requirements.txt (line 2)) (2021.5.30)\n",
            "Requirement already satisfied: Werkzeug<2.0,>=0.15 in /usr/local/lib/python3.7/dist-packages (from flask->-r requirements.txt (line 3)) (1.0.1)\n",
            "Requirement already satisfied: itsdangerous<2.0,>=0.24 in /usr/local/lib/python3.7/dist-packages (from flask->-r requirements.txt (line 3)) (1.1.0)\n",
            "Requirement already satisfied: Jinja2<3.0,>=2.10.1 in /usr/local/lib/python3.7/dist-packages (from flask->-r requirements.txt (line 3)) (2.11.3)\n",
            "Requirement already satisfied: click<8.0,>=5.1 in /usr/local/lib/python3.7/dist-packages (from flask->-r requirements.txt (line 3)) (7.1.2)\n",
            "Collecting pyyaml\n",
            "  Downloading PyYAML-5.4.1-cp37-cp37m-manylinux1_x86_64.whl (636 kB)\n",
            "\u001b[K     |████████████████████████████████| 636 kB 41.9 MB/s \n",
            "\u001b[?25hCollecting sacremoses\n",
            "  Downloading sacremoses-0.0.45-py3-none-any.whl (895 kB)\n",
            "\u001b[K     |████████████████████████████████| 895 kB 44.5 MB/s \n",
            "\u001b[?25hRequirement already satisfied: tqdm>=4.27 in /usr/local/lib/python3.7/dist-packages (from transformers->-r requirements.txt (line 8)) (4.62.0)\n",
            "Collecting tokenizers<0.11,>=0.10.1\n",
            "  Downloading tokenizers-0.10.3-cp37-cp37m-manylinux_2_5_x86_64.manylinux1_x86_64.manylinux_2_12_x86_64.manylinux2010_x86_64.whl (3.3 MB)\n",
            "\u001b[K     |████████████████████████████████| 3.3 MB 45.5 MB/s \n",
            "\u001b[?25hRequirement already satisfied: importlib-metadata in /usr/local/lib/python3.7/dist-packages (from transformers->-r requirements.txt (line 8)) (4.6.4)\n",
            "Requirement already satisfied: filelock in /usr/local/lib/python3.7/dist-packages (from transformers->-r requirements.txt (line 8)) (3.0.12)\n",
            "Requirement already satisfied: regex!=2019.12.17 in /usr/local/lib/python3.7/dist-packages (from transformers->-r requirements.txt (line 8)) (2019.12.20)\n",
            "Requirement already satisfied: packaging in /usr/local/lib/python3.7/dist-packages (from transformers->-r requirements.txt (line 8)) (21.0)\n",
            "Collecting huggingface-hub==0.0.12\n",
            "  Downloading huggingface_hub-0.0.12-py3-none-any.whl (37 kB)\n",
            "Collecting torchtext==0.5.0\n",
            "  Downloading torchtext-0.5.0-py3-none-any.whl (73 kB)\n",
            "\u001b[K     |████████████████████████████████| 73 kB 1.8 MB/s \n",
            "\u001b[?25hCollecting flask\n",
            "  Downloading Flask-1.1.2-py2.py3-none-any.whl (94 kB)\n",
            "\u001b[K     |████████████████████████████████| 94 kB 3.2 MB/s \n",
            "\u001b[?25hCollecting OpenNMT-py>=1.2.0\n",
            "  Downloading OpenNMT_py-2.1.1-py3-none-any.whl (212 kB)\n",
            "\u001b[K     |████████████████████████████████| 212 kB 48.6 MB/s \n",
            "\u001b[?25h  Downloading OpenNMT_py-2.1.0-py3-none-any.whl (209 kB)\n",
            "\u001b[K     |████████████████████████████████| 209 kB 52.0 MB/s \n",
            "\u001b[?25h  Downloading OpenNMT_py-2.0.1-py3-none-any.whl (207 kB)\n",
            "\u001b[K     |████████████████████████████████| 207 kB 52.9 MB/s \n",
            "\u001b[?25h  Downloading OpenNMT_py-2.0.0-py3-none-any.whl (206 kB)\n",
            "\u001b[K     |████████████████████████████████| 206 kB 56.0 MB/s \n",
            "\u001b[?25h  Downloading OpenNMT_py-1.2.0-py3-none-any.whl (195 kB)\n",
            "\u001b[K     |████████████████████████████████| 195 kB 50.9 MB/s \n",
            "\u001b[?25hCollecting waitress\n",
            "  Downloading waitress-2.0.0-py3-none-any.whl (56 kB)\n",
            "\u001b[K     |████████████████████████████████| 56 kB 4.5 MB/s \n",
            "\u001b[?25hRequirement already satisfied: six in /usr/local/lib/python3.7/dist-packages (from OpenNMT-py>=1.2.0->-r requirements.txt (line 9)) (1.15.0)\n",
            "Requirement already satisfied: future in /usr/local/lib/python3.7/dist-packages (from OpenNMT-py>=1.2.0->-r requirements.txt (line 9)) (0.16.0)\n",
            "Collecting pyonmttok==1.*\n",
            "  Downloading pyonmttok-1.26.4-cp37-cp37m-manylinux1_x86_64.whl (14.3 MB)\n",
            "\u001b[K     |████████████████████████████████| 14.3 MB 106 kB/s \n",
            "\u001b[?25hCollecting torchtext==0.4.0\n",
            "  Downloading torchtext-0.4.0-py3-none-any.whl (53 kB)\n",
            "\u001b[K     |████████████████████████████████| 53 kB 1.8 MB/s \n",
            "\u001b[?25hRequirement already satisfied: tensorboard>=1.14 in /usr/local/lib/python3.7/dist-packages (from OpenNMT-py>=1.2.0->-r requirements.txt (line 9)) (2.6.0)\n",
            "Collecting numpy\n",
            "  Downloading numpy-1.19.4-cp37-cp37m-manylinux2010_x86_64.whl (14.5 MB)\n",
            "\u001b[K     |████████████████████████████████| 14.5 MB 75 kB/s \n",
            "\u001b[?25hRequirement already satisfied: nltk in /usr/local/lib/python3.7/dist-packages (from diaparser->-r requirements.txt (line 10)) (3.2.5)\n",
            "Collecting stanza\n",
            "  Downloading stanza-1.2.3-py3-none-any.whl (342 kB)\n",
            "\u001b[K     |████████████████████████████████| 342 kB 46.3 MB/s \n",
            "\u001b[?25hCollecting future\n",
            "  Downloading future-0.18.2.tar.gz (829 kB)\n",
            "\u001b[K     |████████████████████████████████| 829 kB 41.0 MB/s \n",
            "\u001b[?25hCollecting pyDeprecate==0.3.1\n",
            "  Downloading pyDeprecate-0.3.1-py3-none-any.whl (10 kB)\n",
            "Collecting fsspec[http]!=2021.06.0,>=2021.05.0\n",
            "  Downloading fsspec-2021.7.0-py3-none-any.whl (118 kB)\n",
            "\u001b[K     |████████████████████████████████| 118 kB 45.5 MB/s \n",
            "\u001b[?25hRequirement already satisfied: scipy>=0.19.1 in /usr/local/lib/python3.7/dist-packages (from scikit-learn>=0.24->-r requirements.txt (line 13)) (1.4.1)\n",
            "Requirement already satisfied: joblib>=0.11 in /usr/local/lib/python3.7/dist-packages (from scikit-learn>=0.24->-r requirements.txt (line 13)) (1.0.1)\n",
            "Collecting threadpoolctl>=2.0.0\n",
            "  Downloading threadpoolctl-2.2.0-py3-none-any.whl (12 kB)\n",
            "Collecting aiohttp\n",
            "  Downloading aiohttp-3.7.4.post0-cp37-cp37m-manylinux2014_x86_64.whl (1.3 MB)\n",
            "\u001b[K     |████████████████████████████████| 1.3 MB 39.7 MB/s \n",
            "\u001b[?25hRequirement already satisfied: MarkupSafe>=0.23 in /usr/local/lib/python3.7/dist-packages (from Jinja2<3.0,>=2.10.1->flask->-r requirements.txt (line 3)) (2.0.1)\n",
            "Requirement already satisfied: pyparsing>=2.0.2 in /usr/local/lib/python3.7/dist-packages (from packaging->transformers->-r requirements.txt (line 8)) (2.4.7)\n",
            "Requirement already satisfied: google-auth<2,>=1.6.3 in /usr/local/lib/python3.7/dist-packages (from tensorboard>=1.14->OpenNMT-py>=1.2.0->-r requirements.txt (line 9)) (1.34.0)\n",
            "Requirement already satisfied: tensorboard-data-server<0.7.0,>=0.6.0 in /usr/local/lib/python3.7/dist-packages (from tensorboard>=1.14->OpenNMT-py>=1.2.0->-r requirements.txt (line 9)) (0.6.1)\n",
            "Requirement already satisfied: setuptools>=41.0.0 in /usr/local/lib/python3.7/dist-packages (from tensorboard>=1.14->OpenNMT-py>=1.2.0->-r requirements.txt (line 9)) (57.4.0)\n",
            "Requirement already satisfied: absl-py>=0.4 in /usr/local/lib/python3.7/dist-packages (from tensorboard>=1.14->OpenNMT-py>=1.2.0->-r requirements.txt (line 9)) (0.12.0)\n",
            "Requirement already satisfied: tensorboard-plugin-wit>=1.6.0 in /usr/local/lib/python3.7/dist-packages (from tensorboard>=1.14->OpenNMT-py>=1.2.0->-r requirements.txt (line 9)) (1.8.0)\n",
            "Requirement already satisfied: protobuf>=3.6.0 in /usr/local/lib/python3.7/dist-packages (from tensorboard>=1.14->OpenNMT-py>=1.2.0->-r requirements.txt (line 9)) (3.17.3)\n",
            "Requirement already satisfied: grpcio>=1.24.3 in /usr/local/lib/python3.7/dist-packages (from tensorboard>=1.14->OpenNMT-py>=1.2.0->-r requirements.txt (line 9)) (1.39.0)\n",
            "Requirement already satisfied: markdown>=2.6.8 in /usr/local/lib/python3.7/dist-packages (from tensorboard>=1.14->OpenNMT-py>=1.2.0->-r requirements.txt (line 9)) (3.3.4)\n",
            "Requirement already satisfied: google-auth-oauthlib<0.5,>=0.4.1 in /usr/local/lib/python3.7/dist-packages (from tensorboard>=1.14->OpenNMT-py>=1.2.0->-r requirements.txt (line 9)) (0.4.5)\n",
            "Requirement already satisfied: wheel>=0.26 in /usr/local/lib/python3.7/dist-packages (from tensorboard>=1.14->OpenNMT-py>=1.2.0->-r requirements.txt (line 9)) (0.37.0)\n",
            "Requirement already satisfied: cachetools<5.0,>=2.0.0 in /usr/local/lib/python3.7/dist-packages (from google-auth<2,>=1.6.3->tensorboard>=1.14->OpenNMT-py>=1.2.0->-r requirements.txt (line 9)) (4.2.2)\n",
            "Requirement already satisfied: pyasn1-modules>=0.2.1 in /usr/local/lib/python3.7/dist-packages (from google-auth<2,>=1.6.3->tensorboard>=1.14->OpenNMT-py>=1.2.0->-r requirements.txt (line 9)) (0.2.8)\n",
            "Requirement already satisfied: rsa<5,>=3.1.4 in /usr/local/lib/python3.7/dist-packages (from google-auth<2,>=1.6.3->tensorboard>=1.14->OpenNMT-py>=1.2.0->-r requirements.txt (line 9)) (4.7.2)\n",
            "Requirement already satisfied: requests-oauthlib>=0.7.0 in /usr/local/lib/python3.7/dist-packages (from google-auth-oauthlib<0.5,>=0.4.1->tensorboard>=1.14->OpenNMT-py>=1.2.0->-r requirements.txt (line 9)) (1.3.0)\n",
            "Requirement already satisfied: pyasn1<0.5.0,>=0.4.6 in /usr/local/lib/python3.7/dist-packages (from pyasn1-modules>=0.2.1->google-auth<2,>=1.6.3->tensorboard>=1.14->OpenNMT-py>=1.2.0->-r requirements.txt (line 9)) (0.4.8)\n",
            "Requirement already satisfied: oauthlib>=3.0.0 in /usr/local/lib/python3.7/dist-packages (from requests-oauthlib>=0.7.0->google-auth-oauthlib<0.5,>=0.4.1->tensorboard>=1.14->OpenNMT-py>=1.2.0->-r requirements.txt (line 9)) (3.1.1)\n",
            "Collecting multidict<7.0,>=4.5\n",
            "  Downloading multidict-5.1.0-cp37-cp37m-manylinux2014_x86_64.whl (142 kB)\n",
            "\u001b[K     |████████████████████████████████| 142 kB 50.7 MB/s \n",
            "\u001b[?25hCollecting yarl<2.0,>=1.0\n",
            "  Downloading yarl-1.6.3-cp37-cp37m-manylinux2014_x86_64.whl (294 kB)\n",
            "\u001b[K     |████████████████████████████████| 294 kB 45.5 MB/s \n",
            "\u001b[?25hCollecting async-timeout<4.0,>=3.0\n",
            "  Downloading async_timeout-3.0.1-py3-none-any.whl (8.2 kB)\n",
            "Requirement already satisfied: attrs>=17.3.0 in /usr/local/lib/python3.7/dist-packages (from aiohttp->fsspec[http]!=2021.06.0,>=2021.05.0->pytorch_lightning->-r requirements.txt (line 11)) (21.2.0)\n",
            "Requirement already satisfied: zipp>=0.5 in /usr/local/lib/python3.7/dist-packages (from importlib-metadata->transformers->-r requirements.txt (line 8)) (3.5.0)\n",
            "Building wheels for collected packages: ufal.udpipe, future\n",
            "  Building wheel for ufal.udpipe (setup.py) ... \u001b[?25l\u001b[?25hdone\n",
            "  Created wheel for ufal.udpipe: filename=ufal.udpipe-1.2.0.3-cp37-cp37m-linux_x86_64.whl size=5626786 sha256=775ca335e3025f3fa01399d97899c9d77a9f3809ffdc0f100f6ae51c30036c3f\n",
            "  Stored in directory: /root/.cache/pip/wheels/b8/b5/8e/3da091629a21ce2d10bf90759d0cb034ba10a5cf7a01e83d64\n",
            "  Building wheel for future (setup.py) ... \u001b[?25l\u001b[?25hdone\n",
            "  Created wheel for future: filename=future-0.18.2-py3-none-any.whl size=491070 sha256=f29e8929b4ba85f91d7b9f1d9ef4d6d81d7c0d873f2ddc8e712a21499eddbac3\n",
            "  Stored in directory: /root/.cache/pip/wheels/56/b0/fe/4410d17b32f1f0c3cf54cdfb2bc04d7b4b8f4ae377e2229ba0\n",
            "Successfully built ufal.udpipe future\n",
            "Installing collected packages: multidict, yarl, async-timeout, tokenizers, sacremoses, pyyaml, numpy, huggingface-hub, fsspec, aiohttp, waitress, transformers, torchtext, torchmetrics, threadpoolctl, stanza, pyonmttok, pyDeprecate, future, configargparse, ufal.udpipe, scikit-learn, pytorch-lightning, OpenNMT-py, diaparser\n",
            "  Attempting uninstall: pyyaml\n",
            "    Found existing installation: PyYAML 3.13\n",
            "    Uninstalling PyYAML-3.13:\n",
            "      Successfully uninstalled PyYAML-3.13\n",
            "  Attempting uninstall: numpy\n",
            "    Found existing installation: numpy 1.19.5\n",
            "    Uninstalling numpy-1.19.5:\n",
            "      Successfully uninstalled numpy-1.19.5\n",
            "  Attempting uninstall: torchtext\n",
            "    Found existing installation: torchtext 0.10.0\n",
            "    Uninstalling torchtext-0.10.0:\n",
            "      Successfully uninstalled torchtext-0.10.0\n",
            "  Attempting uninstall: future\n",
            "    Found existing installation: future 0.16.0\n",
            "    Uninstalling future-0.16.0:\n",
            "      Successfully uninstalled future-0.16.0\n",
            "  Attempting uninstall: scikit-learn\n",
            "    Found existing installation: scikit-learn 0.22.2.post1\n",
            "    Uninstalling scikit-learn-0.22.2.post1:\n",
            "      Successfully uninstalled scikit-learn-0.22.2.post1\n",
            "\u001b[31mERROR: pip's dependency resolver does not currently take into account all the packages that are installed. This behaviour is the source of the following dependency conflicts.\n",
            "datascience 0.10.6 requires folium==0.2.1, but you have folium 0.8.3 which is incompatible.\n",
            "albumentations 0.1.12 requires imgaug<0.2.7,>=0.2.5, but you have imgaug 0.2.9 which is incompatible.\u001b[0m\n",
            "Successfully installed OpenNMT-py-1.2.0 aiohttp-3.7.4.post0 async-timeout-3.0.1 configargparse-1.5.2 diaparser-1.1.2 fsspec-2021.7.0 future-0.18.2 huggingface-hub-0.0.12 multidict-5.1.0 numpy-1.19.4 pyDeprecate-0.3.1 pyonmttok-1.26.4 pytorch-lightning-1.4.4 pyyaml-5.4.1 sacremoses-0.0.45 scikit-learn-0.24.2 stanza-1.2.3 threadpoolctl-2.2.0 tokenizers-0.10.3 torchmetrics-0.5.0 torchtext-0.4.0 transformers-4.9.2 ufal.udpipe-1.2.0.3 waitress-2.0.0 yarl-1.6.3\n",
            "\u001b[33mWARNING: Running pip as the 'root' user can result in broken permissions and conflicting behaviour with the system package manager. It is recommended to use a virtual environment instead: https://pip.pypa.io/warnings/venv\u001b[0m\n"
          ],
          "name": "stdout"
        }
      ]
    },
    {
      "cell_type": "code",
      "metadata": {
        "colab": {
          "base_uri": "https://localhost:8080/"
        },
        "id": "FMAjETYgkNMT",
        "outputId": "62265a27-3e68-4950-b1a3-7225fd1e7af9"
      },
      "source": [
        "#this is something we need to do for now, hopefully it eases when\n",
        "#the next version of OpenNMT comes out\n",
        "!python3 -m pip install --no-deps OpenNMT-py==2.1.2 "
      ],
      "execution_count": 4,
      "outputs": [
        {
          "output_type": "stream",
          "text": [
            "Collecting OpenNMT-py==2.1.2\n",
            "  Using cached OpenNMT_py-2.1.2-py3-none-any.whl (212 kB)\n",
            "Installing collected packages: OpenNMT-py\n",
            "  Attempting uninstall: OpenNMT-py\n",
            "    Found existing installation: OpenNMT-py 1.2.0\n",
            "    Uninstalling OpenNMT-py-1.2.0:\n",
            "      Successfully uninstalled OpenNMT-py-1.2.0\n",
            "Successfully installed OpenNMT-py-2.1.2\n",
            "\u001b[33mWARNING: Running pip as the 'root' user can result in broken permissions and conflicting behaviour with the system package manager. It is recommended to use a virtual environment instead: https://pip.pypa.io/warnings/venv\u001b[0m\n"
          ],
          "name": "stdout"
        }
      ]
    },
    {
      "cell_type": "markdown",
      "metadata": {
        "id": "Wrsm2c8AKLeF"
      },
      "source": [
        "# FETCH MODEL\n",
        "\n",
        "* At present, only the Finnish (fi_tdt_dia) and English (en_ewt_dia) models are available for the most recent diaparser-based version of the pipeline\n",
        "* Models documented here: http://turkunlp.org/Turku-neural-parser-pipeline/models.html\n",
        "* ...the remainder of UD languages is in the works..."
      ]
    },
    {
      "cell_type": "code",
      "metadata": {
        "id": "UviA2z6DKWYv"
      },
      "source": [
        "# ...this is what you would do normally\n",
        "# ...but let us now use direct GDrive links to play it safe\n",
        "#!python3 fetch_models.py fi_tdt_dia"
      ],
      "execution_count": 5,
      "outputs": []
    },
    {
      "cell_type": "code",
      "metadata": {
        "id": "wfsAak1JcoiU",
        "outputId": "0745c4ce-32db-47f9-af89-5264219299f0",
        "colab": {
          "base_uri": "https://localhost:8080/"
        }
      },
      "source": [
        "#Direct download\n",
        "from google_drive_downloader import GoogleDriveDownloader as gdd\n",
        "\n",
        "#FINNISH\n",
        "gdd.download_file_from_google_drive(file_id='1ZnXxoLchiENEMTwQgiFPbHwV698H3JVg',dest_path='./fi_tdt_dia.tgz')\n",
        "!tar zxvf fi_tdt_dia.tgz\n",
        "\n",
        "# ENGLISH\n",
        "#gdd.download_file_from_google_drive(file_id='1TBtMjqnKzN4N_xaVACezbUJfjB9vEcie',dest_path='./en_ewd_dia.tgz')\n",
        "#!tar zxvf en_ewd_dia.tgz"
      ],
      "execution_count": 7,
      "outputs": [
        {
          "output_type": "stream",
          "text": [
            "Downloading 1ZnXxoLchiENEMTwQgiFPbHwV698H3JVg into ./fi_tdt_dia.tgz... Done.\n",
            "models_fi_tdt_dia/\n",
            "models_fi_tdt_dia/Lemmatizer/\n",
            "models_fi_tdt_dia/Lemmatizer/lemmatizer.pt\n",
            "models_fi_tdt_dia/Lemmatizer/lemma_cache.tsv\n",
            "models_fi_tdt_dia/Lemmatizer/big_lemma_cache.tsv\n",
            "models_fi_tdt_dia/Tagger/\n",
            "models_fi_tdt_dia/Tagger/label_encoders.pickle\n",
            "models_fi_tdt_dia/Tagger/best.ckpt\n",
            "models_fi_tdt_dia/Tokenizer/\n",
            "models_fi_tdt_dia/Tokenizer/tokenizer.udpipe\n",
            "models_fi_tdt_dia/pipelines.yaml~\n",
            "models_fi_tdt_dia/Diaparser/\n",
            "models_fi_tdt_dia/Diaparser/diaparser.model\n",
            "models_fi_tdt_dia/pipelines.yaml\n"
          ],
          "name": "stdout"
        }
      ]
    },
    {
      "cell_type": "markdown",
      "metadata": {
        "id": "X9gJOGYLKx6u"
      },
      "source": [
        "* Note: this might take a while, the model is quite large (>1GB)\n",
        "* The above command created the directory `models_fi_tdt_dia` with the model\n",
        "* The file `models_fi_tdt_dia/pipelines.yaml` defines all the possible pipelines for the parser in this model\n",
        "* The `parse_plaintext` is the correct choice in most situations"
      ]
    },
    {
      "cell_type": "markdown",
      "metadata": {
        "id": "uWztsJw8LIeY"
      },
      "source": [
        "# PARSE IN PYTHON\n",
        "\n",
        "* You need to load and start the pipeline of choice\n",
        "* Like so:"
      ]
    },
    {
      "cell_type": "code",
      "metadata": {
        "colab": {
          "base_uri": "https://localhost:8080/"
        },
        "id": "9p6um1idLVun",
        "outputId": "4d815f7b-801c-4e76-9635-b1998b452e0a"
      },
      "source": [
        "from tnparser.pipeline import read_pipelines, Pipeline\n",
        "\n",
        "# What pipelines do we have for the Finnish model?\n",
        "available_pipelines=read_pipelines(\"models_fi_tdt_dia/pipelines.yaml\")               # {pipeline_name -> its steps}\n",
        "# This is a dictionary, its keys are the pipelines\n",
        "print(list(available_pipelines.keys()))\n",
        "# Instantiate one of the pipelines\n",
        "p=Pipeline(available_pipelines[\"parse_plaintext\"])    "
      ],
      "execution_count": 8,
      "outputs": [
        {
          "output_type": "stream",
          "text": [
            "['parse_plaintext', 'tag_plaintext', 'parse_sentlines', 'parse_wslines', 'parse_conllu', 'tokenize', 'parse_noisytext']\n"
          ],
          "name": "stdout"
        },
        {
          "output_type": "stream",
          "text": [
            "/usr/local/lib/python3.7/dist-packages/pytorch_lightning/core/decorators.py:66: LightningDeprecationWarning: The `@auto_move_data` decorator is deprecated in v1.3 and will be removed in v1.5. Please use `trainer.predict` instead for inference. The decorator was applied to `predict`\n",
            "  \"The `@auto_move_data` decorator is deprecated in v1.3 and will be removed in v1.5.\"\n",
            "INFO:root:Loading model from /content/Turku-neural-parser-pipeline/models_fi_tdt_dia/Tagger/best.ckpt\n"
          ],
          "name": "stderr"
        }
      ]
    },
    {
      "cell_type": "code",
      "metadata": {
        "colab": {
          "base_uri": "https://localhost:8080/"
        },
        "id": "rNkU44JEIWJT",
        "outputId": "e5fe773b-56f9-457e-a52f-0cbd06d40e4a"
      },
      "source": [
        "txt_in=\"Minulla on söpö koira. Se haukkuu, syö makkaraa, jahtaa oravia ja tsillailee kanssani!\"\n",
        "parsed=p.parse(txt_in)\n",
        "print(parsed)"
      ],
      "execution_count": 9,
      "outputs": [
        {
          "output_type": "stream",
          "text": [
            "# newdoc\n",
            "# newpar\n",
            "# sent_id = 1\n",
            "# text = Minulla on söpö koira.\n",
            "1\tMinulla\tminä\tPRON\t_\tCase=Ade|Number=Sing|Person=1|PronType=Prs\t0\troot\t_\t_\n",
            "2\ton\tolla\tAUX\t_\tMood=Ind|Number=Sing|Person=3|Tense=Pres|VerbForm=Fin|Voice=Act\t1\tcop:own\t_\t_\n",
            "3\tsöpö\tsöpö\tADJ\t_\tCase=Nom|Degree=Pos|Number=Sing\t4\tamod\t_\t_\n",
            "4\tkoira\tkoira\tNOUN\t_\tCase=Nom|Number=Sing\t1\tnsubj:cop\t_\tSpaceAfter=No\n",
            "5\t.\t.\tPUNCT\t_\t_\t1\tpunct\t_\t_\n",
            "\n",
            "# sent_id = 2\n",
            "# text = Se haukkuu, syö makkaraa, jahtaa oravia ja tsillailee kanssani!\n",
            "1\tSe\tse\tPRON\t_\tCase=Nom|Number=Sing|PronType=Dem\t2\tnsubj\t_\t_\n",
            "2\thaukkuu\thaukkua\tVERB\t_\tMood=Ind|Number=Sing|Person=3|Tense=Pres|VerbForm=Fin|Voice=Act\t0\troot\t_\tSpaceAfter=No\n",
            "3\t,\t,\tPUNCT\t_\t_\t4\tpunct\t_\t_\n",
            "4\tsyö\tsyödä\tVERB\t_\tMood=Ind|Number=Sing|Person=3|Tense=Pres|VerbForm=Fin|Voice=Act\t2\tconj\t_\t_\n",
            "5\tmakkaraa\tmakkara\tNOUN\t_\tCase=Par|Number=Sing\t4\tobj\t_\tSpaceAfter=No\n",
            "6\t,\t,\tPUNCT\t_\t_\t7\tpunct\t_\t_\n",
            "7\tjahtaa\tjahtaa\tVERB\t_\tMood=Ind|Number=Sing|Person=3|Tense=Pres|VerbForm=Fin|Voice=Act\t2\tconj\t_\t_\n",
            "8\toravia\torava\tNOUN\t_\tCase=Par|Number=Plur\t7\tobj\t_\t_\n",
            "9\tja\tja\tCCONJ\t_\t_\t10\tcc\t_\t_\n",
            "10\ttsillailee\ttsillailla\tVERB\t_\tMood=Ind|Number=Sing|Person=3|Tense=Pres|VerbForm=Fin|Voice=Act\t2\tconj\t_\t_\n",
            "11\tkanssani\tkanssa\tADV\t_\tNumber[psor]=Sing|Person[psor]=1\t10\tadvmod\t_\tSpaceAfter=No\n",
            "12\t!\t!\tPUNCT\t_\t_\t2\tpunct\t_\tSpacesAfter=\\n\n",
            "\n",
            "\n"
          ],
          "name": "stdout"
        }
      ]
    },
    {
      "cell_type": "markdown",
      "metadata": {
        "id": "UvaSQcqfL6Ru"
      },
      "source": [
        "# Parsing more data\n",
        "\n",
        "* You might have many files with data you need to parse\n",
        "* If you have massive documents, it makes sense to split them into manageable pieces\n",
        "* Here is a basic example of how to achieve that\n",
        "* You can download an example zip file I prepared from here: [http://bionlp-www.utu.fi/.ginter/news_test_data.zip](http://bionlp-www.utu.fi/.ginter/news_test_data.zip)\n",
        "* Or simply upload your own\n"
      ]
    },
    {
      "cell_type": "code",
      "metadata": {
        "colab": {
          "base_uri": "https://localhost:8080/"
        },
        "id": "4oZ4OxYnVeII",
        "outputId": "4541ccee-9fa9-437f-dbda-fe5826c37be9"
      },
      "source": [
        "#Remember this notebook uses Turku-neural-parser-pipeline as its working directory\n",
        "!wget http://bionlp-www.utu.fi/.ginter/news_test_data.zip\n",
        "!unzip news_test_data.zip #will unzip some 60 files into ./test_data"
      ],
      "execution_count": 10,
      "outputs": [
        {
          "output_type": "stream",
          "text": [
            "--2021-08-25 08:56:15--  http://bionlp-www.utu.fi/.ginter/news_test_data.zip\n",
            "Resolving bionlp-www.utu.fi (bionlp-www.utu.fi)... 130.232.253.44\n",
            "Connecting to bionlp-www.utu.fi (bionlp-www.utu.fi)|130.232.253.44|:80... connected.\n",
            "HTTP request sent, awaiting response... 200 OK\n",
            "Length: 136098 (133K) [application/zip]\n",
            "Saving to: ‘news_test_data.zip’\n",
            "\n",
            "news_test_data.zip  100%[===================>] 132.91K   603KB/s    in 0.2s    \n",
            "\n",
            "2021-08-25 08:56:15 (603 KB/s) - ‘news_test_data.zip’ saved [136098/136098]\n",
            "\n",
            "Archive:  news_test_data.zip\n",
            "   creating: test_data/\n",
            "  inflating: test_data/yle_news_0061.txt  \n",
            "  inflating: test_data/yle_news_0053.txt  \n",
            "  inflating: test_data/yle_news_0052.txt  \n",
            "  inflating: test_data/yle_news_0050.txt  \n",
            "  inflating: test_data/yle_news_0017.txt  \n",
            "  inflating: test_data/yle_news_0044.txt  \n",
            "  inflating: test_data/yle_news_0001.txt  \n",
            "  inflating: test_data/yle_news_0005.txt  \n",
            "  inflating: test_data/yle_news_0009.txt  \n",
            "  inflating: test_data/yle_news_0051.txt  \n",
            "  inflating: test_data/yle_news_0029.txt  \n",
            "  inflating: test_data/yle_news_0046.txt  \n",
            "  inflating: test_data/yle_news_0021.txt  \n",
            "  inflating: test_data/yle_news_0059.txt  \n",
            "  inflating: test_data/yle_news_0043.txt  \n",
            "  inflating: test_data/yle_news_0019.txt  \n",
            "  inflating: test_data/yle_news_0014.txt  \n",
            "  inflating: test_data/yle_news_0063.txt  \n",
            "  inflating: test_data/yle_news_0006.txt  \n",
            "  inflating: test_data/yle_news_0007.txt  \n",
            "  inflating: test_data/yle_news_0026.txt  \n",
            "  inflating: test_data/yle_news_0023.txt  \n",
            "  inflating: test_data/yle_news_0047.txt  \n",
            "  inflating: test_data/yle_news_0065.txt  \n",
            "  inflating: test_data/yle_news_0042.txt  \n",
            "  inflating: test_data/yle_news_0060.txt  \n",
            "  inflating: test_data/yle_news_0003.txt  \n",
            "  inflating: test_data/yle_news_0045.txt  \n",
            "  inflating: test_data/yle_news_0058.txt  \n",
            "  inflating: test_data/yle_news_0038.txt  \n",
            "  inflating: test_data/yle_news_0056.txt  \n",
            "  inflating: test_data/yle_news_0004.txt  \n",
            "  inflating: test_data/yle_news_0037.txt  \n",
            "  inflating: test_data/yle_news_0027.txt  \n",
            "  inflating: test_data/yle_news_0036.txt  \n",
            "  inflating: test_data/yle_news_0057.txt  \n",
            "  inflating: test_data/yle_news_0034.txt  \n",
            "  inflating: test_data/yle_news_0033.txt  \n",
            "  inflating: test_data/yle_news_0025.txt  \n",
            "  inflating: test_data/yle_news_0018.txt  \n",
            "  inflating: test_data/yle_news_0066.txt  \n",
            "  inflating: test_data/yle_news_0024.txt  \n",
            "  inflating: test_data/yle_news_0064.txt  \n",
            "  inflating: test_data/yle_news_0062.txt  \n",
            "  inflating: test_data/yle_news_0000.txt  \n",
            "  inflating: test_data/yle_news_0008.txt  \n",
            "  inflating: test_data/yle_news_0049.txt  \n",
            "  inflating: test_data/yle_news_0041.txt  \n",
            "  inflating: test_data/yle_news_0039.txt  \n",
            "  inflating: test_data/yle_news_0020.txt  \n",
            "  inflating: test_data/yle_news_0022.txt  \n",
            "  inflating: test_data/yle_news_0055.txt  \n",
            "  inflating: test_data/yle_news_0054.txt  \n",
            "  inflating: test_data/yle_news_0048.txt  \n",
            "  inflating: test_data/yle_news_0040.txt  \n",
            "  inflating: test_data/yle_news_0010.txt  \n",
            "  inflating: test_data/yle_news_0011.txt  \n",
            "  inflating: test_data/yle_news_0030.txt  \n",
            "  inflating: test_data/yle_news_0012.txt  \n",
            "  inflating: test_data/yle_news_0013.txt  \n",
            "  inflating: test_data/yle_news_0016.txt  \n",
            "  inflating: test_data/yle_news_0028.txt  \n",
            "  inflating: test_data/yle_news_0015.txt  \n",
            "  inflating: test_data/yle_news_0035.txt  \n",
            "  inflating: test_data/yle_news_0002.txt  \n",
            "  inflating: test_data/yle_news_0031.txt  \n",
            "  inflating: test_data/yle_news_0032.txt  \n"
          ],
          "name": "stdout"
        }
      ]
    },
    {
      "cell_type": "markdown",
      "metadata": {
        "id": "eshlzXZAX_5h"
      },
      "source": [
        "* Now we have 67 text files in `test_data` and we would like to parse them"
      ]
    },
    {
      "cell_type": "code",
      "metadata": {
        "id": "qsm11zrsVtyD"
      },
      "source": [
        "import glob #allows listing files\n",
        "import tqdm #progress bar\n",
        "\n",
        "all_files=glob.glob(\"test_data/*.txt\") #list all files we need\n",
        "\n",
        "for file_name in tqdm.tqdm(all_files):\n",
        "    txt=open(file_name).read() #read the file\n",
        "    parsed=p.parse(txt) #parse it\n",
        "    with open(file_name.replace(\".txt\",\".conllu\"),\"wt\") as f_out: #open output file\n",
        "        f_out.write(parsed) #and write out the result"
      ],
      "execution_count": null,
      "outputs": []
    },
    {
      "cell_type": "markdown",
      "metadata": {
        "id": "ZPnxeTeVZNfa"
      },
      "source": [
        "* there are now parsed conllu files under `test_data` "
      ]
    },
    {
      "cell_type": "code",
      "metadata": {
        "id": "8eT4Rc_2ZbmN"
      },
      "source": [
        "# Basic stats of the parsed files\n",
        "!echo \"Sentences:\" ; cat test_data/*.conllu | grep -Pc '^1\\t'\n",
        "!echo \"Tokens:\" ; cat test_data/*.conllu | grep -Pc '^[0-9]+\\t'"
      ],
      "execution_count": null,
      "outputs": []
    },
    {
      "cell_type": "markdown",
      "metadata": {
        "id": "d-mfmb-2ZzPO"
      },
      "source": [
        "* Now we yet need to pack and download the data"
      ]
    },
    {
      "cell_type": "code",
      "metadata": {
        "id": "l8WphD8WZ2Lz"
      },
      "source": [
        "!zip parsed.zip test_data/*.conllu"
      ],
      "execution_count": null,
      "outputs": []
    },
    {
      "cell_type": "markdown",
      "metadata": {
        "id": "vqIMDbdFZ88B"
      },
      "source": [
        "...and download the `parsed.zip` file and you're good to go"
      ]
    },
    {
      "cell_type": "markdown",
      "metadata": {
        "id": "dQjvSbNxOmPV"
      },
      "source": [
        "# Models\n",
        "\n",
        "* Universal Dependencies models\n",
        "* A handful of specialized models (e.g. biomedical English)\n",
        "* Training new models not particularly difficult, documentation for the diaparser-based pipeline training in the works\n",
        "\n",
        "# Failure modes\n",
        "\n",
        "* Generally this is a pretty stable parser, it was used to parse some hundreds of millions of sentences successfully\n",
        "* Most failures stem from the bleeding-edge libraries we are forced to use; these keep changing rapidly\n",
        "* Backward-incompatible, breaking changes are very common\n",
        "* Google Colab environment regularly upgraded to newest versions of many common libraries, and this might break some dependencies\n",
        "\n",
        "In case of failure:\n",
        "\n",
        "* Runtime -> Factory reset runtime, try again\n",
        "* Check that you are on a GPU runtime, large files might still take long to parse -> split your data into more manageable pieces\n",
        "* Ping Filip Ginter or Jenna Kanerva with as good a description of the problem as possible\n"
      ]
    },
    {
      "cell_type": "code",
      "metadata": {
        "id": "e9nFfTotbgT2"
      },
      "source": [
        "!wget https://drive.google.com/u/0/open?id=1TBtMjqnKzN4N_xaVACezbUJfjB9vEcie"
      ],
      "execution_count": null,
      "outputs": []
    },
    {
      "cell_type": "code",
      "metadata": {
        "id": "RezaYcG1dJSt"
      },
      "source": [
        "!tar zxvf en_edt_dia.tgz"
      ],
      "execution_count": null,
      "outputs": []
    }
  ]
}