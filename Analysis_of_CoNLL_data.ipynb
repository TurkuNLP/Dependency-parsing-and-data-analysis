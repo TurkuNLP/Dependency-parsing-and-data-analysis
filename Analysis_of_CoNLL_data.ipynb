{
  "nbformat": 4,
  "nbformat_minor": 0,
  "metadata": {
    "colab": {
      "name": "Analysis of CoNLL data.ipynb",
      "provenance": [],
      "collapsed_sections": [],
      "authorship_tag": "ABX9TyPYGIttC/cB1qtBhdyuCdHC",
      "include_colab_link": true
    },
    "kernelspec": {
      "name": "python3",
      "display_name": "Python 3"
    },
    "language_info": {
      "name": "python"
    }
  },
  "cells": [
    {
      "cell_type": "markdown",
      "metadata": {
        "id": "view-in-github",
        "colab_type": "text"
      },
      "source": [
        "<a href=\"https://colab.research.google.com/github/TurkuNLP/Dependency-parsing-and-data-analysis/blob/master/Analysis_of_CoNLL_data.ipynb\" target=\"_parent\"><img src=\"https://colab.research.google.com/assets/colab-badge.svg\" alt=\"Open In Colab\"/></a>"
      ]
    },
    {
      "cell_type": "markdown",
      "metadata": {
        "id": "5At7UsUiioJN"
      },
      "source": [
        "# Using dependency parses for analyzing language - very short introduction!\n",
        "\n",
        "Focus here on ready-made Python scripts\n",
        "* (Although some of the first commands are in [Bash](https://en.wikipedia.org/wiki/Bash_(Unix_shell)))\n",
        "* You can also use tagged data with corpus tools, such as Antconc\n",
        "** See https://www.youtube.com/watch?v=gkKna-ka9zw\n",
        "\n",
        "* All the scripts are downloadable at https://github.com/mavela/Linguistics-with-conllu-data.git (disclaimer for code beauty!)\n",
        "\n",
        "\n",
        "The examples follow the distinction of two research designs in corpus linguistics ([see Biber & Jones 2009](https://jan.ucc.nau.edu/biber/Biber/Biber_offprint.pdf)) \n",
        "*   Type A focuses on individual forms (words, lemmas, constructions)\n",
        "*   Type B focuses on entire texts\n",
        "\n"
      ]
    },
    {
      "cell_type": "markdown",
      "metadata": {
        "id": "63O02lOfw-mt"
      },
      "source": [
        "## Preparations\n",
        "\n",
        "Let's download the data from Github!\n",
        "* cd takes us to the correct directory\n",
        "* ! ls lists the files in that directory\n",
        "\n",
        "\n",
        "\n"
      ]
    },
    {
      "cell_type": "code",
      "metadata": {
        "colab": {
          "base_uri": "https://localhost:8080/"
        },
        "id": "aO-_J2sa8tMW",
        "outputId": "aefcbecd-4ff3-4645-85f9-a5b952bc508b"
      },
      "source": [
        "! git clone https://github.com/TurkuNLP/Dependency-parsing-and-data-analysis.git\n",
        "% cd Dependency-parsing-and-data-analysis\n",
        "!ls"
      ],
      "execution_count": 1,
      "outputs": [
        {
          "output_type": "stream",
          "text": [
            "Cloning into 'Dependency-parsing-and-data-analysis'...\n",
            "remote: Enumerating objects: 27, done.\u001b[K\n",
            "remote: Counting objects: 100% (27/27), done.\u001b[K\n",
            "remote: Compressing objects: 100% (22/22), done.\u001b[K\n",
            "remote: Total 27 (delta 10), reused 16 (delta 4), pack-reused 0\u001b[K\n",
            "Unpacking objects: 100% (27/27), done.\n",
            "/content/Dependency-parsing-and-data-analysis\n",
            "Analysis_of_CoNLL_data.ipynb  parser-output-explained.ipynb\n",
            "analyze.py\t\t      pb_even_smaller_part.conllu.gz\n",
            "docs\t\t\t      pb_smallpart.conllu.gz\n",
            "how-to.conllu.gz\t      tree2.png\n",
            "narrative_ext.conllu\n"
          ],
          "name": "stdout"
        }
      ]
    },
    {
      "cell_type": "markdown",
      "metadata": {
        "id": "b3-TpGYLJ4qq"
      },
      "source": [
        "### Checking the basics\n",
        "! zcat prints the file the entire file, head -20 cuts after 20 first lines"
      ]
    },
    {
      "cell_type": "code",
      "metadata": {
        "colab": {
          "base_uri": "https://localhost:8080/"
        },
        "id": "mv6vB5mjJ3uO",
        "outputId": "a97e5025-06f4-4807-eeb6-04e354b7c4e3"
      },
      "source": [
        "! zcat pb_smallpart.conllu.gz | head -20 # How the data look like"
      ],
      "execution_count": 2,
      "outputs": [
        {
          "output_type": "stream",
          "text": [
            "# <doc id=\"7-510353\" length=\"0-1k\" crawl_date=\"2015-06-05\" url=\"http://yle.fi/uutiset/lahden_paikallisliikenteen_uudistus_edennyt_ilman_suuria_ongelmia/7338226?origin=rss\" langdiff=\"0.11\">\n",
            "# delex_lm_mean_perplexity: 210.51\n",
            "# lex_lm_mean_perplexity: 32064.49\n",
            "# predicted register: narrative\n",
            "# <p heading=\"0\">\n",
            "# paragraph_delex_lm_mean_perplexity: 368.98\n",
            "# paragraph_lexical_lm_mean_perplexity: 50604.32\n",
            "# text = Suurilta ja toistuvilta myöhästymisiltä tai muilta kommelluksilta on vältytty.\n",
            "# </p>\n",
            "1\tSuurilta\tsuuri\tADJ\t_\tCase=Abl|Degree=Pos|Number=Plur\t4\tamod\t_\t_\n",
            "2\tja\tja\tCCONJ\t_\t_\t3\tcc\t_\t_\n",
            "3\ttoistuvilta\ttoistuva\tADJ\t_\tCase=Abl|Degree=Pos|Number=Plur\t1\tconj\t_\t_\n",
            "4\tmyöhästymisiltä\tmyöhästyminen\tNOUN\t_\tCase=Nom|Derivation=Minen|Number=Plur\t9\tobl\t_\t_\n",
            "5\ttai\ttai\tCCONJ\t_\t_\t7\tcc\t_\t_\n",
            "6\tmuilta\tmuu\tPRON\t_\tCase=Abl|Number=Sing|PronType=Dem\t7\tdet\t_\t_\n",
            "7\tkommelluksilta\tkommellus\tNOUN\t_\tCase=Abl|Number=Plur\t4\tconj\t_\t_\n",
            "8\ton\tolla\tAUX\t_\tMood=Ind|Number=Sing|Person=3|Tense=Pres|VerbForm=Fin|Voice=Act\t9\taux:pass\t_\t_\n",
            "9\tvältytty\tvälttyä\tVERB\t_\tCase=Nom|Degree=Pos|Number=Sing|PartForm=Past|VerbForm=Part|Voice=Pass\t0\troot\t_\t_\n",
            "10\t.\t.\tPUNCT\t_\t_\t9\tpunct\t_\t_\n",
            "\n"
          ],
          "name": "stdout"
        }
      ]
    },
    {
      "cell_type": "markdown",
      "metadata": {
        "id": "ODW0qMMMW4nS"
      },
      "source": [
        "## Word counts\n",
        "Note that we have to skip empty lines and metadata\n"
      ]
    },
    {
      "cell_type": "code",
      "metadata": {
        "colab": {
          "base_uri": "https://localhost:8080/"
        },
        "id": "ZyTaNQFBKnyN",
        "outputId": "b9e51d3d-d4cd-4714-d412-dc667feea4a8"
      },
      "source": [
        "from analyze import count_words, most_frequent, extract_register, print_text\n",
        "\n",
        "print(\"Total word count of the conllu file is\", count_words(\"pb_smallpart.conllu.gz\"), \"tokens\")"
      ],
      "execution_count": 3,
      "outputs": [
        {
          "output_type": "stream",
          "text": [
            "Total word count of the conllu file is 6004519 tokens\n"
          ],
          "name": "stdout"
        }
      ]
    },
    {
      "cell_type": "markdown",
      "metadata": {
        "id": "v7Szn6TGxim_"
      },
      "source": [
        "## Lemmatization\n",
        "\n",
        "One of the most frequent uses of the parser is simply lemmatization.\n",
        "\n",
        "print_text prints one text per line the text featurized as we indicate.\n",
        "\n",
        "We can specify the kind of feature by referring to the column name in the Conll format.\n",
        "\n",
        "The columns are: \n",
        "* ID, FORM, LEMMA, UPOS, XPOS, FEAT, HEAD, DEPREL, DEPS, MISC \n",
        "\n",
        "The number indicates how many texts we want."
      ]
    },
    {
      "cell_type": "code",
      "metadata": {
        "colab": {
          "base_uri": "https://localhost:8080/"
        },
        "id": "LG6LkPlhxsFt",
        "outputId": "2938a8bc-a95e-4c94-bf17-433e44dba6bb"
      },
      "source": [
        "print(print_text(\"pb_smallpart.conllu.gz\", \"FORM\", 2))\n",
        "print()\n",
        "print(print_text(\"pb_smallpart.conllu.gz\", \"LEMMA\", 2))"
      ],
      "execution_count": 5,
      "outputs": [
        {
          "output_type": "stream",
          "text": [
            "Suurilta ja toistuvilta myöhästymisiltä tai muilta kommelluksilta on vältytty . – Tietooni ei ole tullut liikennöitsijöiltä sellaisia linjoja , joissa toistuvia myöhästelyjä olisi . Kuljettajatkin ovat olleet tyytyväisiä uusin reitteihin , vaikka varmasti paljon uutta on ollut omaksuttavana . Myöhästelyt ovat Jorasmaan mukaan johtuneet lähes poikkeuksetta lipunmyyntijärjestelmän ongelmista .\n",
            "\n",
            "Translate sunnuntai 2. joulukuuta 2012 Poronkäristys Aivan loistava ruoka näin tuulen tuivertaessa lunta ikkunoihin . On hanget korkeat nietokset ( ainakin toivottavasti muutaman päivän ) ja pihalta tullessa tuhti ruoka lämmittää sopivasti . Poro on lihana miedonmakuinen ja vähärasvainen joten se on hyvää vaihtelua naudan- ja possunlihalle . Saimme 10kg poroa tuoreena suoraan lapista setäni kautta ja tänä talvena pääsemme kokeilemaan tästä pohjoisen herkusta moninaisia ruokia . Paistia on jo tullut testattua ja käristystäkin kerran . Teimme ensimmäisen kerran käristyksen \" ainoan ja oikean \" ohjeen mukaan jossa käristykseen ei tule kuin suolaa ja pippuria mausteeksi ja vettä nesteeksi . Halusin kuitenkin syventää makua ja kokeilla jotain uutta . Hain inspiraatiota netin tarjonnasta ja törmäsin yhdessä suosikkiblogeistani tähän ohjeeseen . Nesteenä siinä on lihaliemen ohella tummaa olutta . Itse en to-del-la-kaan ole oluen ystävä . Pelkkä kaljan hajukin on saanut voimaan pahoin ( mistä lie johtuu ? ) mutta rohkaistuin ostamaan Alkosta tähän ruokaan tsekkiläistä tummaa olutta . Pullossa seisoo nimi Kozel ja täytyy kyllä sanoa , että sopi tähän ruokaan todella hyvin . Olut ei haissut edes pahalla :) Tuskin minusta oluen ystävää saa silti tehtyä mutta tätä tulee kyllä jatkossa varmasti lorautettua käristyksen joukkoon . Ohjeesta poiketen en laittanut koko pulloa vaan tyydyin puolikkaaseen . Nesteen määrä ruuassa on muutenkin arvioitava silmämääräisesti . Tuoreita yrttejä ei ollut tällä kertaa saatavilla ja muutenkin tuunailin ohjetta määrien osalta lennosta , mutta ohjeesta saa suuntaviivat mihin pitäisi pyrkiä . Ja kerrotaan nyt tässä vaiheessa , että olihan hyvää ! Tumma , hyvin maustunut ja mehukas käristys maistui myös lapsille . Tätä tehdään uudelleen .\n",
            "\n",
            "suuri ja toistuva myöhästyminen tai muu kommellus olla välttyä . – tieto ei olla tulla liikennöitsijä sellainen linja , joka toistuva myöhästely olla . kuljettaja olla olla tyytyväinen uusi reitti , vaikka varmasti paljon uusi olla olla omaksua . myöhästelyn olla Jorasmaa mukaan johtua lähes poikkeuksetta lipun#myynti#järjestelmä ongelma .\n",
            "\n",
            "translate sunnuntai 2. joulukuu 2012 poron#käristys aivan loistava ruoka näin tuuli tuivertaa lumi ikkuna . olla hanki korkea nietos ( ainakin toivottavasti muutama päivä ) ja piha tulla tuhti ruoka lämmittää sopivasti . poro olla liha miedon#makuinen ja vähä#rasvainen joten se olla hyvä vaihtelu naudan ja possun#liha . saada 10kg poro tuore suoraan lappi setä kautta ja tämä talvi päästä kokeilla tämä pohjoinen herkku moninainen ruoka . paisti olla jo tulla testata ja käristys#täki kerran . tehdä ensimmäinen kerran käristys \" ainoa ja oikea \" ohje mukaan joka käristys ei tulla kuin suola ja pippuri mauste ja vesi neste . haluta kuitenkin syventää maku ja kokeilla jokin uusi . hakea inspiraatio netti tarjonta ja törmätä yksi suosikki#blogi tämä ohje . neste se olla liha#liemi ohella tumma olut . itse ei to-del-la-kaan olla olut ystävä . pelkkä kalja haju olla saada voida pahoin ( mikä lie johtua ? ) mutta rohkaistua ostaa Alko tämä ruoka tsekkiläinen tumma olut . pullo seisoa nimi Kozel ja täytyä kyllä sanoa , että sopia tämä ruoka todella hyvin . olut ei haista edes pahalla :) tuskin minä olut ystävä saada silti tehdä mutta tämä tulla kyllä jatko varmasti lorauttaa käristys joukko . ohje poiketa ei laittaa koko pullo vaan tyytyä puolikas . neste määrä ruoka olla muuten arvioida silmä#määräisesti . tuore yrtti ei olla tämä kerta saada ja muuten tuunailla ohje määrä osa lento , mutta ohje saada suunta#viiva mikä pitää pyrkiä . ja kertoa nyt tämä vaihe , että oliha hyvä ! tumma , hyvin maustua ja mehukas käristys maistua myös lapsi . tämä tehdä uudelleen .\n"
          ],
          "name": "stdout"
        }
      ]
    },
    {
      "cell_type": "markdown",
      "metadata": {
        "id": "oM3YjHGw7VUd"
      },
      "source": [
        "## Type A perspective: Analyzing / searching for individual words / lemmas\n",
        "\n",
        "How many times a particular lemma appears in the corpus?\n",
        "\n",
        "What are its most frequent dependency relations? (Or other tags)\n",
        "\n",
        "The Conllu tagsets (columns) are defined as: ID,FORM,LEMMA,UPOS,XPOS,FEAT,HEAD,DEPREL,DEPS,MISC"
      ]
    },
    {
      "cell_type": "code",
      "metadata": {
        "colab": {
          "base_uri": "https://localhost:8080/"
        },
        "id": "NjyKvTjU1dEM",
        "outputId": "62b19381-e326-4051-e5ae-5bcbc12c11c1"
      },
      "source": [
        "from analyze import count_specific_lemma, count_word_context\n",
        "\n",
        "#NOTE THESE ARE LEMMAS WE ARE SEARCHING FOR\n",
        "print(count_specific_lemma(\"koira\", \"pb_smallpart.conllu.gz\", \"FORM\"))\n",
        "print(count_specific_lemma(\"koira\", \"pb_smallpart.conllu.gz\", \"DEPREL\"))"
      ],
      "execution_count": 7,
      "outputs": [
        {
          "output_type": "stream",
          "text": [
            "Total counts for the lemma koira: 563\n",
            "The most frequent  FORM:\n",
            "koira 149\n",
            "koiran 68\n",
            "koiraa 49\n",
            "koiria 48\n",
            "koirat 47\n",
            "Koira 31\n",
            "koirien 29\n",
            "Koirat 16\n",
            "Koiran 13\n",
            "koirilla 13\n",
            "koiransa 11\n",
            "koiralle 9\n",
            "koirille 9\n",
            "koirasta 7\n",
            "koirista 7\n",
            "\n",
            "Total counts for the lemma koira: 563\n",
            "The most frequent  DEPREL:\n",
            "nsubj 94\n",
            "obj 83\n",
            "obl 68\n",
            "conj 59\n",
            "nmod 54\n",
            "root 53\n",
            "nmod:poss 52\n",
            "nsubj:cop 40\n",
            "compound:nn 17\n",
            "appos 14\n",
            "advcl 8\n",
            "nmod:gobj 5\n",
            "ccomp 4\n",
            "nmod:gsubj 3\n",
            "flat:name 3\n",
            "\n"
          ],
          "name": "stdout"
        }
      ]
    },
    {
      "cell_type": "markdown",
      "metadata": {
        "id": "1rZX14_d2rfK"
      },
      "source": [
        "## Surrounding words or other context\n",
        "\n",
        "What kinds of words is the target word collocating with?\n",
        "(Note that this is just a frequency list)"
      ]
    },
    {
      "cell_type": "code",
      "metadata": {
        "colab": {
          "base_uri": "https://localhost:8080/"
        },
        "id": "Z6IsZDxK2rAi",
        "outputId": "0d7c1a09-6860-4dfa-9e0d-e282a2836e04"
      },
      "source": [
        "# note that currently this function targets FORMS (running words). You can modify this to target lemmas and their contexts\n",
        "print(count_word_context(\"Suomi\", \"LEMMA\", \"pb_smallpart.conllu.gz\"))\n",
        "print()\n",
        "print(count_word_context(\"koira\", \"UPOS\", \"pb_smallpart.conllu.gz\"))"
      ],
      "execution_count": 9,
      "outputs": [
        {
          "output_type": "stream",
          "text": [
            "Suomi 439\n",
            "olla 164\n",
            "ja 79\n",
            "ei 45\n",
            "että 35\n",
            "se 34\n",
            "joka 27\n",
            "vuosi 25\n",
            "yhdistys 22\n",
            "Venäjä 19\n",
            "tämä 19\n",
            "Ruotsi 18\n",
            "saada 17\n",
            "20 16\n",
            "Italia 16\n",
            "maa 15\n",
            "Kaisla 15\n",
            "& 15\n",
            "opiskelija 15\n",
            "Helsinki 14\n",
            "\n",
            "\n",
            "NOUN 337\n",
            "VERB 125\n",
            "PROPN 70\n",
            "PRON 67\n",
            "ADV 66\n",
            "ADJ 64\n",
            "CCONJ 56\n",
            "AUX 51\n",
            "SCONJ 23\n",
            "NUM 11\n",
            "ADP 10\n",
            "SYM 6\n",
            "INTJ 2\n",
            "\n"
          ],
          "name": "stdout"
        }
      ]
    },
    {
      "cell_type": "markdown",
      "metadata": {
        "id": "uAkxw-vqf3Eh"
      },
      "source": [
        "## Type B perspective: Text level\n",
        "### Most frequent tokens + lemmas in a text\n"
      ]
    },
    {
      "cell_type": "code",
      "metadata": {
        "colab": {
          "base_uri": "https://localhost:8080/"
        },
        "id": "eFz9Go4pGi7o",
        "outputId": "5a612eda-413e-4dd3-8dc4-42162450e757"
      },
      "source": [
        "print(\"Most frequent tokens\")\n",
        "print(most_frequent(\"pb_smallpart.conllu.gz\", \"FORM\", 10)) # the number defines how many we want to see\n",
        "\n",
        "print(\"Most frequent lemmas\")\n",
        "print(most_frequent(\"pb_smallpart.conllu.gz\", \"LEMMA\", 10)) # the number defines how many we want to see"
      ],
      "execution_count": null,
      "outputs": [
        {
          "output_type": "stream",
          "text": [
            "Most frequent tokens\n",
            "ja 187895\n",
            "on 98379\n",
            "oli 49492\n",
            "että 37319\n",
            "ei 29839\n",
            "joka 24799\n",
            "hän 23282\n",
            "vuonna 20998\n",
            "hänen 19782\n",
            "se 18595\n",
            "\n",
            "Most frequent lemmas\n",
            "olla 224316\n",
            "ja 190309\n",
            "hän 80894\n",
            "se 75515\n",
            "joka 58328\n",
            "vuosi 47916\n",
            "ei 47496\n",
            "että 37784\n",
            "tämä 35210\n",
            "kun 21057\n",
            "\n"
          ],
          "name": "stdout"
        }
      ]
    },
    {
      "cell_type": "markdown",
      "metadata": {
        "id": "lFJsqr1jXtw8"
      },
      "source": [
        "## Distribution of POS tags or dependency relations\n",
        "The Conllu tagsets (columns) are defined as:\n",
        "ID,FORM,LEMMA,UPOS,XPOS,FEAT,HEAD,DEPREL,DEPS,MISC\n"
      ]
    },
    {
      "cell_type": "code",
      "metadata": {
        "colab": {
          "base_uri": "https://localhost:8080/"
        },
        "id": "PzlnGRm4M7no",
        "outputId": "43c3a4c0-0625-49fc-e3f6-56e7994858d2"
      },
      "source": [
        "print(\"Most frequent frequent part-of-speech tags\")\n",
        "print(most_frequent(\"pb_smallpart.conllu.gz\", \"UPOS\", 10))\n",
        "\n",
        "print(\"Then the most frequent dependency relations\")\n",
        "print(most_frequent(\"pb_smallpart.conllu.gz\", \"DEPREL\", 10))"
      ],
      "execution_count": 10,
      "outputs": [
        {
          "output_type": "stream",
          "text": [
            "Most frequent frequent part-of-speech tags\n",
            "NOUN 1557042\n",
            "PROPN 808304\n",
            "VERB 654108\n",
            "ADJ 381399\n",
            "ADV 381011\n",
            "PRON 362355\n",
            "AUX 287354\n",
            "CCONJ 246675\n",
            "NUM 195055\n",
            "SCONJ 105037\n",
            "\n",
            "Then the most frequent dependency relations\n",
            "obl 451168\n",
            "root 433011\n",
            "advmod 350376\n",
            "conj 349639\n",
            "obj 334813\n",
            "nsubj 318784\n",
            "flat:name 295147\n",
            "amod 287853\n",
            "nmod 283030\n",
            "nmod:poss 272137\n",
            "\n"
          ],
          "name": "stdout"
        }
      ]
    },
    {
      "cell_type": "markdown",
      "metadata": {
        "id": "qLXMxQ7JHZFc"
      },
      "source": [
        "## Focusing text-level analysis to particular tags"
      ]
    },
    {
      "cell_type": "code",
      "metadata": {
        "colab": {
          "base_uri": "https://localhost:8080/"
        },
        "id": "Xt_Ku3mkHa0J",
        "outputId": "5cd4d78b-3347-4e66-ae8d-f1244ef79bef"
      },
      "source": [
        "print(\"Most frequent lemmas under a specific tagset(column).\")\n",
        "print(\"For instance, the most frequent lemmas that receive the ADJ tag in the UPOS column.\")\n",
        "print()\n",
        "print(most_frequent(\"pb_smallpart.conllu.gz\", \"UPOS\", 10, \"ADJ\"))\n",
        "\n",
        "print(\"Or the most frequent lemmas that receive nsubj that in the DEPREL column\")\n",
        "print()\n",
        "print(most_frequent(\"pb_smallpart.conllu.gz\", \"DEPREL\", 10, \"nsubj\"))"
      ],
      "execution_count": 11,
      "outputs": [
        {
          "output_type": "stream",
          "text": [
            "Most frequent lemmas under a specific tagset(column).\n",
            "For instance, the most frequent lemmas that receive the ADJ tag in the UPOS column.\n",
            "\n",
            "ensimmäinen 11915\n",
            "suuri 9877\n",
            "hyvä 8696\n",
            "uusi 8267\n",
            "usea 6615\n",
            "oma 6224\n",
            "toinen 6027\n",
            "pieni 4724\n",
            "koko 3994\n",
            "eri 3896\n",
            "\n",
            "Or the most frequent lemmas that receive nsubj that in the DEPREL column\n",
            "\n",
            "hän 35406\n",
            "joka 21604\n",
            "se 14226\n",
            "tämä 2813\n",
            "minä 2734\n",
            "mikä 2110\n",
            "ihminen 1571\n",
            "joku 1183\n",
            "hallitus 1109\n",
            "osa 1083\n",
            "\n"
          ],
          "name": "stdout"
        }
      ]
    },
    {
      "cell_type": "markdown",
      "metadata": {
        "id": "2ZazPEyjFcuC"
      },
      "source": [
        "## Focus and / or compare specific registers\n",
        "\n",
        "Registers used:\n",
        "* how-to/instructions\n",
        "* informational description\n",
        "* informational persuasion general\n",
        "* interactive discussion\n",
        "* machine translated\n",
        "* narrative\n",
        "* opinion\n",
        "\n",
        "The Github repo includes two register-specific datasets: narrative and how-to/instructions. You can also extract other registers.\n"
      ]
    },
    {
      "cell_type": "code",
      "metadata": {
        "colab": {
          "base_uri": "https://localhost:8080/"
        },
        "id": "X6kRIX2_8L1J",
        "outputId": "0214f28e-0333-41b8-d3c8-b29d1afbf52e"
      },
      "source": [
        "from analyze import extract_register\n",
        "\n",
        "extract_register(\"opinion\", \"pb_smallpart.conllu.gz\")\n",
        "\n",
        "! ls # see it's there!"
      ],
      "execution_count": 12,
      "outputs": [
        {
          "output_type": "stream",
          "text": [
            "Wrote opinion texts to a file!\n",
            "Analysis_of_CoNLL_data.ipynb  parser-output-explained.ipynb\n",
            "analyze.py\t\t      pb_even_smaller_part.conllu.gz\n",
            "docs\t\t\t      pb_smallpart.conllu.gz\n",
            "how-to.conllu.gz\t      __pycache__\n",
            "narrative_ext.conllu\t      tree2.png\n",
            "opinion_ext.conllu\n"
          ],
          "name": "stdout"
        }
      ]
    }
  ]
}